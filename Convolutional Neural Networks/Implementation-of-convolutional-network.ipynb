{
 "cells": [
  {
   "cell_type": "code",
   "execution_count": null,
   "metadata": {
    "id": "n_1kdnDrRt3G"
   },
   "outputs": [],
   "source": [
    "import torch\n",
    "import torch.nn as nn\n",
    "import torchvision\n",
    "import torchvision.transforms as transforms\n",
    "import numpy as np\n",
    "import matplotlib.pyplot as plt\n",
    "from torchvision import utils\n",
    "from torchvision.utils import save_image\n",
    "from torchsummary import summary\n"
   ]
  },
  {
   "cell_type": "code",
   "execution_count": null,
   "metadata": {
    "id": "XpwRONZRSVUV"
   },
   "outputs": [],
   "source": [
    "def weights_init(m):\n",
    "    if type(m) == nn.Linear:\n",
    "        m.weight.data.normal_(0.0, 1e-3)\n",
    "        m.bias.data.fill_(0.)\n"
   ]
  },
  {
   "cell_type": "code",
   "execution_count": null,
   "metadata": {
    "id": "i2hrSteZSYWL"
   },
   "outputs": [],
   "source": [
    "def update_lr(optimizer, lr):\n",
    "    for param_group in optimizer.param_groups:\n",
    "        param_group['lr'] = lr"
   ]
  },
  {
   "cell_type": "code",
   "execution_count": null,
   "metadata": {
    "colab": {
     "base_uri": "https://localhost:8080/"
    },
    "executionInfo": {
     "elapsed": 210,
     "status": "ok",
     "timestamp": 1621979246588,
     "user": {
      "displayName": "Prakash Naikade",
      "photoUrl": "https://lh3.googleusercontent.com/a-/AOh14Gi2bZVi295cuZK-fJTCoUwbl14FSpf6ZslViJWVCQ=s64",
      "userId": "05283763024928147860"
     },
     "user_tz": -120
    },
    "id": "1F0i8MP9Sa9S",
    "outputId": "20c0d4fd-1c84-4c21-eed6-5ab30185e90c"
   },
   "outputs": [
    {
     "name": "stdout",
     "output_type": "stream",
     "text": [
      "Using device: cuda\n"
     ]
    }
   ],
   "source": [
    "#--------------------------------\n",
    "# Device configuration\n",
    "#--------------------------------\n",
    "device = torch.device('cuda' if torch.cuda.is_available() else 'cpu')\n",
    "print('Using device: %s'%device)"
   ]
  },
  {
   "cell_type": "code",
   "execution_count": null,
   "metadata": {
    "colab": {
     "base_uri": "https://localhost:8080/"
    },
    "executionInfo": {
     "elapsed": 265,
     "status": "ok",
     "timestamp": 1621979248018,
     "user": {
      "displayName": "Prakash Naikade",
      "photoUrl": "https://lh3.googleusercontent.com/a-/AOh14Gi2bZVi295cuZK-fJTCoUwbl14FSpf6ZslViJWVCQ=s64",
      "userId": "05283763024928147860"
     },
     "user_tz": -120
    },
    "id": "FWD7hXXJSeFB",
    "outputId": "19125773-4f91-4dfd-c4aa-d399dd705cd2"
   },
   "outputs": [
    {
     "name": "stdout",
     "output_type": "stream",
     "text": [
      "[128, 512, 512, 512, 512, 512]\n"
     ]
    }
   ],
   "source": [
    "#--------------------------------\n",
    "# Hyper-parameters\n",
    "#--------------------------------\n",
    "input_size = 3\n",
    "num_classes = 10\n",
    "hidden_size = [128, 512, 512, 512, 512, 512]\n",
    "num_epochs = 20\n",
    "batch_size = 200\n",
    "learning_rate = 2e-3\n",
    "learning_rate_decay = 0.95\n",
    "reg=0.001\n",
    "num_training= 49000\n",
    "num_validation =1000\n",
    "norm_layer = None\n",
    "print(hidden_size)"
   ]
  },
  {
   "cell_type": "code",
   "execution_count": null,
   "metadata": {
    "colab": {
     "base_uri": "https://localhost:8080/"
    },
    "executionInfo": {
     "elapsed": 2539,
     "status": "ok",
     "timestamp": 1621979252206,
     "user": {
      "displayName": "Prakash Naikade",
      "photoUrl": "https://lh3.googleusercontent.com/a-/AOh14Gi2bZVi295cuZK-fJTCoUwbl14FSpf6ZslViJWVCQ=s64",
      "userId": "05283763024928147860"
     },
     "user_tz": -120
    },
    "id": "mZuM1twQShZh",
    "outputId": "b9ca22d5-c644-49f5-c6df-94213f378fbb"
   },
   "outputs": [
    {
     "name": "stdout",
     "output_type": "stream",
     "text": [
      "Files already downloaded and verified\n"
     ]
    }
   ],
   "source": [
    "#################################################################################\n",
    "# TODO: Chose the right data augmentation transforms with the right        #\n",
    "# hyper-parameters and put them in the data_aug_transforms variable             #\n",
    "#################################################################################\n",
    "data_aug_transforms = []\n",
    "# *****START OF YOUR CODE (DO NOT DELETE/MODIFY THIS LINE)*****\n",
    "\n",
    "# *****END OF YOUR CODE (DO NOT DELETE/MODIFY THIS LINE)*****\n",
    "norm_transform = transforms.Compose(data_aug_transforms+[transforms.ToTensor(),\n",
    "                                     transforms.Normalize((0.5, 0.5, 0.5), (0.5, 0.5, 0.5))\n",
    "                                     ])\n",
    "test_transform = transforms.Compose([transforms.ToTensor(),\n",
    "                                     transforms.Normalize((0.5, 0.5, 0.5), (0.5, 0.5, 0.5))\n",
    "                                     ])\n",
    "cifar_dataset = torchvision.datasets.CIFAR10(root='/content/drive/MyDrive/Ex3/datasets/',\n",
    "                                           train=True,\n",
    "                                           transform=norm_transform,\n",
    "                                           download=True)\n",
    "\n",
    "test_dataset = torchvision.datasets.CIFAR10(root='/content/drive/MyDrive/Ex3/datasets/',\n",
    "                                          train=False,\n",
    "                                          transform=test_transform\n",
    "                                          )"
   ]
  },
  {
   "cell_type": "code",
   "execution_count": null,
   "metadata": {
    "id": "6TSspyjRSzyE"
   },
   "outputs": [],
   "source": [
    "#-------------------------------------------------\n",
    "# Prepare the training and validation splits\n",
    "#-------------------------------------------------\n",
    "mask = list(range(num_training))\n",
    "train_dataset = torch.utils.data.Subset(cifar_dataset, mask)\n",
    "mask = list(range(num_training, num_training + num_validation))\n",
    "val_dataset = torch.utils.data.Subset(cifar_dataset, mask)"
   ]
  },
  {
   "cell_type": "code",
   "execution_count": null,
   "metadata": {
    "id": "AxLfNGoYS9B6"
   },
   "outputs": [],
   "source": [
    "#-------------------------------------------------\n",
    "# Data loader\n",
    "#-------------------------------------------------\n",
    "train_loader = torch.utils.data.DataLoader(dataset=train_dataset,\n",
    "                                           batch_size=batch_size,\n",
    "                                           shuffle=True)\n",
    "\n",
    "val_loader = torch.utils.data.DataLoader(dataset=val_dataset,\n",
    "                                           batch_size=batch_size,\n",
    "                                           shuffle=False)\n",
    "\n",
    "test_loader = torch.utils.data.DataLoader(dataset=test_dataset,\n",
    "                                          batch_size=batch_size,\n",
    "                                          shuffle=False)"
   ]
  },
  {
   "cell_type": "code",
   "execution_count": null,
   "metadata": {
    "id": "KRroBZjCXC2g"
   },
   "outputs": [],
   "source": [
    "#-------------------------------------------------\n",
    "# Convolutional neural network\n",
    "# Set norm_layer for different networks whether using batch normalization\n",
    "#-------------------------------------------------\n",
    "class ConvNet(nn.Module):\n",
    "    def __init__(self, input_size, hidden_layers, num_classes, norm_layer=None):\n",
    "        super(ConvNet, self).__init__()\n",
    "        #################################################################################\n",
    "        # TODO: Initialize the modules required to implement the convolutional layer    #\n",
    "        # described in the exercise.                                                    #\n",
    "        # make use of conv2d and relu layers from the torch.nn module.         #\n",
    "        # make use of BatchNorm2d layer from the torch.nn module.              #\n",
    "        # Use Dropout layer from the torch.nn module.                          #\n",
    "        #################################################################################\n",
    "        layers = []\n",
    "        # *****START OF YOUR CODE (DO NOT DELETE/MODIFY THIS LINE)*****\n",
    "        self.conv1 = nn.Sequential(\n",
    "            nn.Conv2d(3, hidden_layers[0], kernel_size=3, stride=1, padding=1), #input: 3 x 32 x 32\n",
    "            nn.MaxPool2d(2, 2),\n",
    "            nn.ReLU()) # output: 128 x 16 x 16\n",
    "\n",
    "        self.conv2 = nn.Sequential(\n",
    "            nn.Conv2d(hidden_layers[0], hidden_layers[1], kernel_size=3, stride=1, padding=1),\n",
    "            nn.MaxPool2d(2, 2),\n",
    "            nn.ReLU()) # output: 512 x 8 x 8\n",
    "\n",
    "        self.conv3 = nn.Sequential(\n",
    "            nn.Conv2d(hidden_layers[1], hidden_layers[2], kernel_size=3, stride=1, padding=1),\n",
    "            nn.MaxPool2d(2, 2),\n",
    "            nn.ReLU()) # output: 512 x 4 x 4\n",
    "\n",
    "        self.conv4 = nn.Sequential(\n",
    "            nn.Conv2d(hidden_layers[2], hidden_layers[3], kernel_size=3, stride=1, padding=1),\n",
    "            nn.MaxPool2d(2, 2),\n",
    "            nn.ReLU()) # output: 512 x 2 x 2\n",
    "\n",
    "        self.conv5 = nn.Sequential(\n",
    "            nn.Conv2d(hidden_layers[3], hidden_layers[4], kernel_size=3, stride=1, padding=1),\n",
    "            nn.MaxPool2d(2, 2),\n",
    "            nn.ReLU()) # output: 512 x 1 x 1\n",
    "\n",
    "        self.fc1 = nn.Linear(hidden_layers[5], 10)\n",
    "\n",
    "        # *****END OF YOUR CODE (DO NOT DELETE/MODIFY THIS LINE)*****\n",
    "\n",
    "    def forward(self, x):\n",
    "        #################################################################################\n",
    "        # TODO: Implement the forward pass computations                                 #\n",
    "        #################################################################################\n",
    "        # *****START OF YOUR CODE (DO NOT DELETE/MODIFY THIS LINE)*****\n",
    "\n",
    "        out = self.conv1(x)\n",
    "        out = self.conv2(out)\n",
    "        out = self.conv3(out)\n",
    "        out = self.conv4(out)\n",
    "        out = self.conv5(out)\n",
    "        out = out.reshape(out.size(0), -1)\n",
    "        out = self.fc1(out)\n",
    "\n",
    "        # *****END OF YOUR CODE (DO NOT DELETE/MODIFY THIS LINE)*****\n",
    "        return out"
   ]
  },
  {
   "cell_type": "code",
   "execution_count": null,
   "metadata": {
    "id": "VFPoG_aiTaYt"
   },
   "outputs": [],
   "source": [
    "#-------------------------------------------------\n",
    "# Calculate the model size \n",
    "# if disp is true, print the model parameters, otherwise, only return the number of parameters.\n",
    "#-------------------------------------------------\n",
    "def PrintModelSize(model, disp=True):\n",
    "    #################################################################################\n",
    "    # TODO: Implement the function to count the number of trainable parameters in   #\n",
    "    # the input model. This useful to track the capacity of the model you are       #\n",
    "    # training                                                                      #\n",
    "    #################################################################################\n",
    "    # *****START OF YOUR CODE (DO NOT DELETE/MODIFY THIS LINE)*****\n",
    "\n",
    "    #model_parameters = filter(lambda p: p.requires_grad, model.parameters())\n",
    "    #model_sz = sum([np.prod(p.size()) for p in model_parameters])\n",
    "    model_sz = sum(q.numel() for q in model.parameters() if q.requires_grad)\n",
    "    if disp == True: \n",
    "      print(model_sz)\n",
    "    else:\n",
    "    # *****END OF YOUR CODE (DO NOT DELETE/MODIFY THIS LINE)*****\n",
    "      return model_sz"
   ]
  },
  {
   "cell_type": "code",
   "execution_count": null,
   "metadata": {
    "id": "GtD1l2MQwlbE"
   },
   "outputs": [],
   "source": [
    "def VisualizeFilter(model):\n",
    "\n",
    "  # get the kernels from the first layer \n",
    "  kernels = model.cpu().conv1[0].weight.detach().clone()\n",
    "\n",
    "  #check size for sanity check\n",
    "  print(kernels.size())\n",
    "\n",
    "  # normalize to (0,1) range so that matplotlib can plot them\n",
    "  kernels = kernels - kernels.min()\n",
    "  kernels = kernels / kernels.max()\n",
    "  filter_img = torchvision.utils.make_grid(kernels, nrow = 16)\n",
    "\n",
    "  # change ordering since matplotlib requires images to be (H, W, C)\n",
    "  plt.figure(figsize=(16, 8))\n",
    "  plt.imshow(filter_img.permute(1, 2, 0))\n"
   ]
  },
  {
   "cell_type": "code",
   "execution_count": null,
   "metadata": {
    "id": "3JMvlDcrTnqw"
   },
   "outputs": [],
   "source": [
    "#======================================================================================\n",
    "# Implementing convolutional neural net in PyTorch\n",
    "#======================================================================================\n",
    "# In this question we will implement a convolutional neural networks using the PyTorch\n",
    "# library.  Please complete the code for the ConvNet class evaluating the model\n",
    "#--------------------------------------------------------------------------------------\n",
    "model = ConvNet(input_size, hidden_size, num_classes, norm_layer=norm_layer).to(device)"
   ]
  },
  {
   "cell_type": "code",
   "execution_count": null,
   "metadata": {
    "colab": {
     "base_uri": "https://localhost:8080/"
    },
    "executionInfo": {
     "elapsed": 221,
     "status": "ok",
     "timestamp": 1621979263075,
     "user": {
      "displayName": "Prakash Naikade",
      "photoUrl": "https://lh3.googleusercontent.com/a-/AOh14Gi2bZVi295cuZK-fJTCoUwbl14FSpf6ZslViJWVCQ=s64",
      "userId": "05283763024928147860"
     },
     "user_tz": -120
    },
    "id": "zOAS4u7RUYel",
    "outputId": "6a79ce4a-c3df-4ddf-d0c9-d30ffe6d64c2"
   },
   "outputs": [
    {
     "data": {
      "text/plain": [
       "ConvNet(\n",
       "  (conv1): Sequential(\n",
       "    (0): Conv2d(3, 128, kernel_size=(3, 3), stride=(1, 1), padding=(1, 1))\n",
       "    (1): MaxPool2d(kernel_size=2, stride=2, padding=0, dilation=1, ceil_mode=False)\n",
       "    (2): ReLU()\n",
       "  )\n",
       "  (conv2): Sequential(\n",
       "    (0): Conv2d(128, 512, kernel_size=(3, 3), stride=(1, 1), padding=(1, 1))\n",
       "    (1): MaxPool2d(kernel_size=2, stride=2, padding=0, dilation=1, ceil_mode=False)\n",
       "    (2): ReLU()\n",
       "  )\n",
       "  (conv3): Sequential(\n",
       "    (0): Conv2d(512, 512, kernel_size=(3, 3), stride=(1, 1), padding=(1, 1))\n",
       "    (1): MaxPool2d(kernel_size=2, stride=2, padding=0, dilation=1, ceil_mode=False)\n",
       "    (2): ReLU()\n",
       "  )\n",
       "  (conv4): Sequential(\n",
       "    (0): Conv2d(512, 512, kernel_size=(3, 3), stride=(1, 1), padding=(1, 1))\n",
       "    (1): MaxPool2d(kernel_size=2, stride=2, padding=0, dilation=1, ceil_mode=False)\n",
       "    (2): ReLU()\n",
       "  )\n",
       "  (conv5): Sequential(\n",
       "    (0): Conv2d(512, 512, kernel_size=(3, 3), stride=(1, 1), padding=(1, 1))\n",
       "    (1): MaxPool2d(kernel_size=2, stride=2, padding=0, dilation=1, ceil_mode=False)\n",
       "    (2): ReLU()\n",
       "  )\n",
       "  (fc1): Linear(in_features=512, out_features=10, bias=True)\n",
       ")"
      ]
     },
     "execution_count": 45,
     "metadata": {
      "tags": []
     },
     "output_type": "execute_result"
    }
   ],
   "source": [
    "# Initialize the model with correct batch norm layer\n",
    "\n",
    "model.apply(weights_init)"
   ]
  },
  {
   "cell_type": "code",
   "execution_count": null,
   "metadata": {
    "colab": {
     "base_uri": "https://localhost:8080/"
    },
    "executionInfo": {
     "elapsed": 227,
     "status": "ok",
     "timestamp": 1621979265620,
     "user": {
      "displayName": "Prakash Naikade",
      "photoUrl": "https://lh3.googleusercontent.com/a-/AOh14Gi2bZVi295cuZK-fJTCoUwbl14FSpf6ZslViJWVCQ=s64",
      "userId": "05283763024928147860"
     },
     "user_tz": -120
    },
    "id": "5P1Ii-eGUkAt",
    "outputId": "a8f63c79-81d4-4920-af13-9764b95fdb7a"
   },
   "outputs": [
    {
     "name": "stdout",
     "output_type": "stream",
     "text": [
      "7678474\n"
     ]
    }
   ],
   "source": [
    "# Print model size\n",
    "#======================================================================================\n",
    "# Implementing the function to count the number of trainable parameters in the model\n",
    "#======================================================================================\n",
    "PrintModelSize(model)"
   ]
  },
  {
   "cell_type": "code",
   "execution_count": null,
   "metadata": {
    "colab": {
     "base_uri": "https://localhost:8080/",
     "height": 476
    },
    "executionInfo": {
     "elapsed": 488,
     "status": "ok",
     "timestamp": 1621975632642,
     "user": {
      "displayName": "Prakash Naikade",
      "photoUrl": "https://lh3.googleusercontent.com/a-/AOh14Gi2bZVi295cuZK-fJTCoUwbl14FSpf6ZslViJWVCQ=s64",
      "userId": "05283763024928147860"
     },
     "user_tz": -120
    },
    "id": "SZhoOGRLUrj5",
    "outputId": "0305028f-5263-495d-d490-39acb6d7c993"
   },
   "outputs": [
    {
     "name": "stdout",
     "output_type": "stream",
     "text": [
      "torch.Size([128, 3, 3, 3])\n"
     ]
    },
    {
     "data": {
      "image/png": "[encoded data removed]",
      "text/plain": [
       "<Figure size 1152x576 with 1 Axes>"
      ]
     },
     "metadata": {
      "needs_background": "light",
      "tags": []
     },
     "output_type": "display_data"
    }
   ],
   "source": [
    "#======================================================================================\n",
    "# Implementing the function to visualize the filters in the first conv layers.\n",
    "# Visualize the filters before training\n",
    "#======================================================================================\n",
    "VisualizeFilter(model)\n"
   ]
  },
  {
   "cell_type": "code",
   "execution_count": null,
   "metadata": {
    "id": "CqSY_9_m78BD"
   },
   "outputs": [],
   "source": [
    "if torch.cuda.is_available():\n",
    "    model.cuda()"
   ]
  },
  {
   "cell_type": "code",
   "execution_count": null,
   "metadata": {
    "id": "jyuF_j_DUwpS"
   },
   "outputs": [],
   "source": [
    "# Loss and optimizer\n",
    "criterion = nn.CrossEntropyLoss()\n",
    "optimizer = torch.optim.Adam(model.parameters(), lr=learning_rate, weight_decay=reg)"
   ]
  },
  {
   "cell_type": "code",
   "execution_count": null,
   "metadata": {
    "colab": {
     "base_uri": "https://localhost:8080/"
    },
    "executionInfo": {
     "elapsed": 497883,
     "status": "ok",
     "timestamp": 1621976136490,
     "user": {
      "displayName": "Prakash Naikade",
      "photoUrl": "https://lh3.googleusercontent.com/a-/AOh14Gi2bZVi295cuZK-fJTCoUwbl14FSpf6ZslViJWVCQ=s64",
      "userId": "05283763024928147860"
     },
     "user_tz": -120
    },
    "id": "LvdRXLkfU1D9",
    "outputId": "26ae602a-ef49-4386-82d1-bf5fee524570"
   },
   "outputs": [
    {
     "name": "stdout",
     "output_type": "stream",
     "text": [
      "Epoch [1/20], Step [100/245], Loss: 1.6872\n",
      "Epoch [1/20], Step [200/245], Loss: 1.2512\n",
      "Validataion accuracy is: 51.3 %\n",
      "Epoch [2/20], Step [100/245], Loss: 1.1082\n",
      "Epoch [2/20], Step [200/245], Loss: 0.9329\n",
      "Validataion accuracy is: 65.1 %\n",
      "Epoch [3/20], Step [100/245], Loss: 0.8105\n",
      "Epoch [3/20], Step [200/245], Loss: 0.8719\n",
      "Validataion accuracy is: 70.2 %\n",
      "Epoch [4/20], Step [100/245], Loss: 0.6897\n",
      "Epoch [4/20], Step [200/245], Loss: 0.7370\n",
      "Validataion accuracy is: 76.0 %\n",
      "Epoch [5/20], Step [100/245], Loss: 0.6915\n",
      "Epoch [5/20], Step [200/245], Loss: 0.5746\n",
      "Validataion accuracy is: 74.4 %\n",
      "Epoch [6/20], Step [100/245], Loss: 0.5948\n",
      "Epoch [6/20], Step [200/245], Loss: 0.5318\n",
      "Validataion accuracy is: 76.1 %\n",
      "Epoch [7/20], Step [100/245], Loss: 0.4429\n",
      "Epoch [7/20], Step [200/245], Loss: 0.4901\n",
      "Validataion accuracy is: 80.0 %\n",
      "Epoch [8/20], Step [100/245], Loss: 0.4501\n",
      "Epoch [8/20], Step [200/245], Loss: 0.4144\n",
      "Validataion accuracy is: 77.7 %\n",
      "Epoch [9/20], Step [100/245], Loss: 0.4455\n",
      "Epoch [9/20], Step [200/245], Loss: 0.4448\n",
      "Validataion accuracy is: 80.0 %\n",
      "Epoch [10/20], Step [100/245], Loss: 0.3424\n",
      "Epoch [10/20], Step [200/245], Loss: 0.3305\n",
      "Validataion accuracy is: 80.8 %\n",
      "Epoch [11/20], Step [100/245], Loss: 0.3408\n",
      "Epoch [11/20], Step [200/245], Loss: 0.2741\n",
      "Validataion accuracy is: 78.9 %\n",
      "Epoch [12/20], Step [100/245], Loss: 0.1966\n",
      "Epoch [12/20], Step [200/245], Loss: 0.3790\n",
      "Validataion accuracy is: 78.1 %\n",
      "Epoch [13/20], Step [100/245], Loss: 0.2063\n",
      "Epoch [13/20], Step [200/245], Loss: 0.2077\n",
      "Validataion accuracy is: 80.1 %\n",
      "Epoch [14/20], Step [100/245], Loss: 0.2344\n",
      "Epoch [14/20], Step [200/245], Loss: 0.2241\n",
      "Validataion accuracy is: 79.1 %\n",
      "Epoch [15/20], Step [100/245], Loss: 0.1934\n",
      "Epoch [15/20], Step [200/245], Loss: 0.2430\n",
      "Validataion accuracy is: 78.8 %\n",
      "Epoch [16/20], Step [100/245], Loss: 0.1142\n",
      "Epoch [16/20], Step [200/245], Loss: 0.1883\n",
      "Validataion accuracy is: 79.4 %\n",
      "Epoch [17/20], Step [100/245], Loss: 0.1039\n",
      "Epoch [17/20], Step [200/245], Loss: 0.1223\n",
      "Validataion accuracy is: 80.0 %\n",
      "Epoch [18/20], Step [100/245], Loss: 0.0810\n",
      "Epoch [18/20], Step [200/245], Loss: 0.1021\n",
      "Validataion accuracy is: 80.1 %\n",
      "Epoch [19/20], Step [100/245], Loss: 0.0729\n",
      "Epoch [19/20], Step [200/245], Loss: 0.1240\n",
      "Validataion accuracy is: 80.0 %\n",
      "Epoch [20/20], Step [100/245], Loss: 0.0614\n",
      "Epoch [20/20], Step [200/245], Loss: 0.1183\n",
      "Validataion accuracy is: 81.6 %\n"
     ]
    }
   ],
   "source": [
    "# Train the model\n",
    "lr = learning_rate\n",
    "total_step = len(train_loader)\n",
    "loss_history = []\n",
    "val_acc = []\n",
    "for epoch in range(num_epochs):\n",
    "    running_loss = 0.0\n",
    "    for i, (images, labels) in enumerate(train_loader):\n",
    "        # Move tensors to the configured device\n",
    "        images = images.to(device)\n",
    "        labels = labels.to(device)\n",
    "\n",
    "        # Forward pass\n",
    "        outputs = model(images)\n",
    "\n",
    "        loss = criterion(outputs, labels)\n",
    "\n",
    "        # Backward and optimize\n",
    "        optimizer.zero_grad()\n",
    "        loss.backward()\n",
    "        optimizer.step()\n",
    "\n",
    "        running_loss += loss.item() * images.size(0)\n",
    "\n",
    "        if (i+1) % 100 == 0:\n",
    "            print ('Epoch [{}/{}], Step [{}/{}], Loss: {:.4f}'\n",
    "                   .format(epoch+1, num_epochs, i+1, total_step, loss.item()))\n",
    "            \n",
    "    loss_history.append(running_loss / len(train_dataset))\n",
    "\n",
    "    # Code to update the lr\n",
    "    lr *= learning_rate_decay\n",
    "    update_lr(optimizer, lr)\n",
    "    model.eval()\n",
    "    with torch.no_grad():\n",
    "        correct = 0\n",
    "        total = 0\n",
    "        for images, labels in val_loader:\n",
    "            images = images.to(device)\n",
    "            labels = labels.to(device)\n",
    "            outputs = model(images)\n",
    "            _, predicted = torch.max(outputs.data, 1)\n",
    "            total += labels.size(0)\n",
    "            correct += (predicted == labels).sum().item()\n",
    "        \n",
    "        val_acc.append(100 * correct / total)\n",
    "        \n",
    "        print('Validataion accuracy is: {} %'.format(100 * correct / total))\n",
    "\n",
    "    model.train()"
   ]
  },
  {
   "cell_type": "code",
   "execution_count": null,
   "metadata": {
    "colab": {
     "base_uri": "https://localhost:8080/",
     "height": 312
    },
    "executionInfo": {
     "elapsed": 383,
     "status": "ok",
     "timestamp": 1621976150612,
     "user": {
      "displayName": "Prakash Naikade",
      "photoUrl": "https://lh3.googleusercontent.com/a-/AOh14Gi2bZVi295cuZK-fJTCoUwbl14FSpf6ZslViJWVCQ=s64",
      "userId": "05283763024928147860"
     },
     "user_tz": -120
    },
    "id": "ZgsnleTI4gH1",
    "outputId": "2b41cc5d-4ed6-4c55-e5f0-aff82541a88e"
   },
   "outputs": [
    {
     "data": {
      "text/plain": [
       "<function matplotlib.pyplot.show>"
      ]
     },
     "execution_count": 22,
     "metadata": {
      "tags": []
     },
     "output_type": "execute_result"
    },
    {
     "data": {
      "image/png": "[encoded data removed]",
      "text/plain": [
       "<Figure size 432x288 with 1 Axes>"
      ]
     },
     "metadata": {
      "needs_background": "light",
      "tags": []
     },
     "output_type": "display_data"
    }
   ],
   "source": [
    "plt.plot(loss_history)\n",
    "plt.xlabel('Epoch')\n",
    "plt.ylabel('Loss')\n",
    "plt.title('Loss vs. Number of epochs');\n",
    "plt.show"
   ]
  },
  {
   "cell_type": "code",
   "execution_count": null,
   "metadata": {
    "colab": {
     "base_uri": "https://localhost:8080/",
     "height": 312
    },
    "executionInfo": {
     "elapsed": 324,
     "status": "ok",
     "timestamp": 1621976158312,
     "user": {
      "displayName": "Prakash Naikade",
      "photoUrl": "https://lh3.googleusercontent.com/a-/AOh14Gi2bZVi295cuZK-fJTCoUwbl14FSpf6ZslViJWVCQ=s64",
      "userId": "05283763024928147860"
     },
     "user_tz": -120
    },
    "id": "H4G4Z47M4j7y",
    "outputId": "6d308a41-2878-4184-90d6-158d5af8cd2e"
   },
   "outputs": [
    {
     "data": {
      "text/plain": [
       "<function matplotlib.pyplot.show>"
      ]
     },
     "execution_count": 23,
     "metadata": {
      "tags": []
     },
     "output_type": "execute_result"
    },
    {
     "data": {
      "image/png": "[encoded data removed]",
      "text/plain": [
       "<Figure size 432x288 with 1 Axes>"
      ]
     },
     "metadata": {
      "needs_background": "light",
      "tags": []
     },
     "output_type": "display_data"
    }
   ],
   "source": [
    "plt.plot(val_acc)\n",
    "plt.xlabel('Epoch')\n",
    "plt.ylabel('Validation accuracy')\n",
    "plt.title('Validation accuracy vs. Number of epochs');\n",
    "plt.show"
   ]
  },
  {
   "cell_type": "code",
   "execution_count": null,
   "metadata": {
    "colab": {
     "base_uri": "https://localhost:8080/"
    },
    "executionInfo": {
     "elapsed": 473,
     "status": "ok",
     "timestamp": 1621976170739,
     "user": {
      "displayName": "Prakash Naikade",
      "photoUrl": "https://lh3.googleusercontent.com/a-/AOh14Gi2bZVi295cuZK-fJTCoUwbl14FSpf6ZslViJWVCQ=s64",
      "userId": "05283763024928147860"
     },
     "user_tz": -120
    },
    "id": "GXg8sG4-U_Bo",
    "outputId": "77b74666-49c7-4bab-dd39-64d45e6ea760"
   },
   "outputs": [
    {
     "name": "stdout",
     "output_type": "stream",
     "text": [
      "Accuracy of the network on the 1000 test images: 80.6 %\n"
     ]
    }
   ],
   "source": [
    "# Test the model\n",
    "# In test phase, we don't need to compute gradients (for memory efficiency)\n",
    "model.eval()\n",
    "\n",
    "with torch.no_grad():\n",
    "    correct = 0\n",
    "    total = 0\n",
    "    for images, labels in test_loader:\n",
    "        images = images.to(device)\n",
    "        labels = labels.to(device)\n",
    "        outputs = model(images)\n",
    "        _, predicted = torch.max(outputs.data, 1)\n",
    "        total += labels.size(0)\n",
    "        correct += (predicted == labels).sum().item()\n",
    "        if total == 1000:\n",
    "            break\n",
    "\n",
    "    print('Accuracy of the network on the {} test images: {} %'.format(total, 100 * correct / total))"
   ]
  },
  {
   "cell_type": "code",
   "execution_count": null,
   "metadata": {
    "colab": {
     "base_uri": "https://localhost:8080/",
     "height": 500
    },
    "executionInfo": {
     "elapsed": 720,
     "status": "ok",
     "timestamp": 1621976173041,
     "user": {
      "displayName": "Prakash Naikade",
      "photoUrl": "https://lh3.googleusercontent.com/a-/AOh14Gi2bZVi295cuZK-fJTCoUwbl14FSpf6ZslViJWVCQ=s64",
      "userId": "05283763024928147860"
     },
     "user_tz": -120
    },
    "id": "F_V8lR1oVNrW",
    "outputId": "cd480aed-6ab9-4f82-a11d-1b19831299f7"
   },
   "outputs": [
    {
     "name": "stdout",
     "output_type": "stream",
     "text": [
      "torch.Size([128, 3, 3, 3])\n"
     ]
    },
    {
     "data": {
      "image/png": "[encoded data removed]",
      "text/plain": [
       "<Figure size 1152x576 with 1 Axes>"
      ]
     },
     "metadata": {
      "needs_background": "light",
      "tags": []
     },
     "output_type": "display_data"
    }
   ],
   "source": [
    "# Implementing the function to visualize the filters in the first conv layers.\n",
    "# Visualize the filters before training\n",
    "VisualizeFilter(model)\n",
    "# Save the model checkpoint\n",
    "torch.save(model.state_dict(), 'model.ckpt')"
   ]
  },
  {
   "cell_type": "code",
   "execution_count": null,
   "metadata": {
    "id": "QiF6ICPqGx2K"
   },
   "outputs": [],
   "source": []
  }
 ],
 "metadata": {
  "accelerator": "GPU",
  "colab": {
   "authorship_tag": "ABX9TyPrhMyq+qG3Do7NyaIGy4Rt",
   "mount_file_id": "1s4ihoeMTvyKFpbkwepLnBaxLWeUPT9Bz",
   "name": "Ex3_convnet_Q1.ipynb",
   "provenance": [
    {
     "file_id": "1xEFCqlVhK3-0qgn_gZnX0B-DUPnUni1M",
     "timestamp": 1621794757714
    }
   ]
  },
  "kernelspec": {
   "display_name": "Python 3",
   "language": "python",
   "name": "python3"
  },
  "language_info": {
   "codemirror_mode": {
    "name": "ipython",
    "version": 3
   },
   "file_extension": ".py",
   "mimetype": "text/x-python",
   "name": "python",
   "nbconvert_exporter": "python",
   "pygments_lexer": "ipython3",
   "version": "3.8.8"
  }
 },
 "nbformat": 4,
 "nbformat_minor": 1
}
