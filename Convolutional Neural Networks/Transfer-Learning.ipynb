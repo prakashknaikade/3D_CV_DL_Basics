{
 "cells": [
  {
   "cell_type": "code",
   "execution_count": 37,
   "metadata": {
    "colab": {
     "base_uri": "https://localhost:8080/"
    },
    "executionInfo": {
     "elapsed": 1754,
     "status": "ok",
     "timestamp": 1622231524307,
     "user": {
      "displayName": "Noor Ul Ain",
      "photoUrl": "https://lh3.googleusercontent.com/a-/AOh14GjpB2UM6JgAbrpYdWsj65DElixdeI5Nkc8RX0rw9A=s64",
      "userId": "10283267087434572998"
     },
     "user_tz": 420
    },
    "id": "_-vwiITqYzbr",
    "outputId": "1293da70-687a-42fe-8728-7977bf2877cd"
   },
   "outputs": [
    {
     "name": "stdout",
     "output_type": "stream",
     "text": [
      "Using device: cpu\n",
      "Files already downloaded and verified\n"
     ]
    }
   ],
   "source": [
    "import torch\n",
    "import torch.nn as nn\n",
    "import torchvision\n",
    "from torchvision import models\n",
    "import torchvision.transforms as transforms\n",
    "import copy\n",
    "\n",
    "def weights_init(m):\n",
    "    if type(m) == nn.Linear:\n",
    "        m.weight.data.normal_(0.0, 1e-3)\n",
    "        m.bias.data.fill_(0.)\n",
    "\n",
    "def update_lr(optimizer, lr):\n",
    "    for param_group in optimizer.param_groups:\n",
    "        param_group['lr'] = lr\n",
    "\n",
    "#--------------------------------\n",
    "# Device configuration\n",
    "#--------------------------------\n",
    "device = torch.device('cuda' if torch.cuda.is_available() else 'cpu')\n",
    "print('Using device: %s'%device)\n",
    "\n",
    "#--------------------------------\n",
    "# Hyper-parameters\n",
    "#--------------------------------\n",
    "input_size = 32 * 32 * 3\n",
    "layer_config= [512, 256]\n",
    "num_classes = 10\n",
    "num_epochs = 1\n",
    "batch_size = 200\n",
    "learning_rate = 1e-3\n",
    "learning_rate_decay = 0.99\n",
    "reg=0#0.001\n",
    "num_training= 49000\n",
    "num_validation =1000\n",
    "fine_tune = False\n",
    "pretrained=True\n",
    "\n",
    "data_aug_transforms = [transforms.RandomHorizontalFlip(p=0.5)]#, transforms.RandomGrayscale(p=0.05)]\n",
    "#-------------------------------------------------\n",
    "# Load the CIFAR-10 dataset\n",
    "#-------------------------------------------------\n",
    "# Q1,\n",
    "norm_transform = transforms.Compose(data_aug_transforms+[transforms.ToTensor(),\n",
    "                                     transforms.Normalize([0.485, 0.456, 0.406], [0.229, 0.224, 0.225]),\n",
    "                                     ])\n",
    "cifar_dataset = torchvision.datasets.CIFAR10(root='datasets/',\n",
    "                                           train=True,\n",
    "                                           transform=norm_transform,\n",
    "                                           download=True)\n",
    "\n",
    "test_dataset = torchvision.datasets.CIFAR10(root='datasets/',\n",
    "                                          train=False,\n",
    "                                          transform=norm_transform\n",
    "                                          )\n",
    "#-------------------------------------------------\n",
    "# Prepare the training and validation splits\n",
    "#-------------------------------------------------\n",
    "mask = list(range(num_training))\n",
    "train_dataset = torch.utils.data.Subset(cifar_dataset, mask)\n",
    "mask = list(range(num_training, num_training + num_validation))\n",
    "val_dataset = torch.utils.data.Subset(cifar_dataset, mask)\n",
    "\n",
    "#-------------------------------------------------\n",
    "# Data loader\n",
    "#-------------------------------------------------\n",
    "train_loader = torch.utils.data.DataLoader(dataset=train_dataset,\n",
    "                                           batch_size=batch_size,\n",
    "                                           shuffle=True)\n",
    "\n",
    "val_loader = torch.utils.data.DataLoader(dataset=val_dataset,\n",
    "                                           batch_size=batch_size,\n",
    "                                           shuffle=False)\n",
    "\n",
    "test_loader = torch.utils.data.DataLoader(dataset=test_dataset,\n",
    "                                          batch_size=batch_size,\n",
    "                                          shuffle=False)\n",
    "\n",
    "def set_parameter_requires_grad(model, feature_extracting):\n",
    "    if feature_extracting:\n",
    "        for param in model.parameters():\n",
    "            param.requires_grad = False"
   ]
  },
  {
   "cell_type": "code",
   "execution_count": 38,
   "metadata": {
    "executionInfo": {
     "elapsed": 30,
     "status": "ok",
     "timestamp": 1622231524311,
     "user": {
      "displayName": "Noor Ul Ain",
      "photoUrl": "https://lh3.googleusercontent.com/a-/AOh14GjpB2UM6JgAbrpYdWsj65DElixdeI5Nkc8RX0rw9A=s64",
      "userId": "10283267087434572998"
     },
     "user_tz": 420
    },
    "id": "HdjicwSSY1rl"
   },
   "outputs": [],
   "source": [
    "class VggModel(nn.Module):\n",
    "    def __init__(self, n_class, fine_tune, pretrained=True):\n",
    "        super(VggModel, self).__init__()\n",
    "        #################################################################################\n",
    "        # TODO: Build the classification network described in Q4 using the              #\n",
    "        # models.vgg11_bn network from torchvision model zoo as the feature extraction  #\n",
    "        # layers and two linear layers on top for classification. You can load the      #\n",
    "        # pretrained ImageNet weights based on the pretrained flag. You can enable and  #\n",
    "        # disable training the feature extraction layers based on the fine_tune flag.   #\n",
    "        #################################################################################\n",
    "        # *****START OF YOUR CODE (DO NOT DELETE/MODIFY THIS LINE)*****\n",
    "        vgg = models.vgg11_bn(pretrained)\n",
    "        # print(\"\\nOriginal VGG model:\\n\")\n",
    "        # print(vgg)\n",
    "        c=0\n",
    "        for name,param in vgg.named_parameters():\n",
    "            if param.requires_grad == True:\n",
    "#                 print(\"\\t\",name)\n",
    "                c+=1\n",
    "        print(\"total learnable params in orignal model: \"+str(c))\n",
    "        \n",
    "        set_parameter_requires_grad(vgg,not fine_tune)\n",
    "        del vgg.avgpool\n",
    "        del vgg.classifier\n",
    "        vgg.classifier = nn.Sequential(torch.nn.Linear(512,512,True),torch.nn.ReLU(True),torch.nn.Linear(512,num_classes,True))\n",
    "\n",
    "        print(\"\\n\\nUpdated Model\\n\")\n",
    "        print(vgg)\n",
    "        d=0\n",
    "        c=0\n",
    "        print('\\nParams that are to be learnt when fine_tine is set to {}\\n'.format(fine_tune))  \n",
    "        for name,param in vgg.named_parameters():\n",
    "            if param.requires_grad == True:\n",
    "                print(\"\\t\",name)\n",
    "                c+=1\n",
    "            d+=1\n",
    "        print('\\nTotal params : {}\\nTotal learnable params when fine_tine is set to {} : {}\\n \\n'.format(d,fine_tune,c))  \n",
    "        self.model=vgg\n",
    "        self.features=vgg.features\n",
    "        self.classifier=vgg.classifier\n",
    "        # *****END OF YOUR CODE (DO NOT DELETE/MODIFY THIS LINE)*****\n",
    "    def forward(self, x):\n",
    "        #################################################################################\n",
    "        # TODO: Implement the forward pass computations                                 #\n",
    "        #################################################################################\n",
    "        # *****START OF YOUR CODE (DO NOT DELETE/MODIFY THIS LINE)*****\n",
    "        x = self.features(x)\n",
    "        x = torch.flatten(x, 1)\n",
    "        out = self.classifier(x)\n",
    "        # *****END OF YOUR CODE (DO NOT DELETE/MODIFY THIS LINE)***** \n",
    "        return out  \n",
    "    "
   ]
  },
  {
   "cell_type": "code",
   "execution_count": 41,
   "metadata": {
    "executionInfo": {
     "elapsed": 509,
     "status": "ok",
     "timestamp": 1622231961834,
     "user": {
      "displayName": "Noor Ul Ain",
      "photoUrl": "https://lh3.googleusercontent.com/a-/AOh14GjpB2UM6JgAbrpYdWsj65DElixdeI5Nkc8RX0rw9A=s64",
      "userId": "10283267087434572998"
     },
     "user_tz": 420
    },
    "id": "Z7sBsUCkSk4N"
   },
   "outputs": [],
   "source": [
    "\n",
    "\n",
    "#################################################################################\n",
    "# TODO: Only select the required parameters to pass to the optimizer. No need to#\n",
    "# update parameters which should be held fixed (conv layers).                   #\n",
    "#################################################################################\n",
    "\n",
    "def Train_evaluate(model,fine_tune, pretrained,modelname):\n",
    "  print(\"Params to learn:\")\n",
    "  if fine_tune:\n",
    "      params_to_update = []\n",
    "      # *****START OF YOUR CODE (DO NOT DELETE/MODIFY THIS LINE)*****\n",
    "      for name,param in model.named_parameters():\n",
    "          if param.requires_grad == True:\n",
    "              params_to_update.append(param)\n",
    "              print(\"\\t\",name)\n",
    "\n",
    "      # *****END OF YOUR CODE (DO NOT DELETE/MODIFY THIS LINE)*****\n",
    "  else:\n",
    "      params_to_update = model.parameters()\n",
    "      for name,param in model.named_parameters():\n",
    "          if param.requires_grad == True:\n",
    "              print(\"\\t\",name)\n",
    "  model.to(device)\n",
    "\n",
    "  # Loss and optimizer\n",
    "  criterion = nn.CrossEntropyLoss()\n",
    "  optimizer = torch.optim.Adam(params_to_update, lr=learning_rate, weight_decay=reg)\n",
    "\n",
    "  # Train the model\n",
    "  lr = learning_rate\n",
    "  best_acc=0\n",
    "  val_accuray_per_dropout=[]\n",
    "  train_accuracy_per_dropout=[]\n",
    "  correct = 0\n",
    "  total = 0\n",
    "  total_step = len(train_loader)\n",
    "  \n",
    "  for epoch in range(num_epochs):\n",
    "      for i, (images, labels) in enumerate(train_loader):\n",
    "          # Move tensors to the configured device\n",
    "          images = images.to(device)\n",
    "          labels = labels.to(device)\n",
    "          # Forward pass\n",
    "          outputs = model(images)\n",
    "          _, predicted = torch.max(outputs.data, 1)\n",
    "          # *****END OF YOUR CODE (DO NOT DELETE/MODIFY THIS LINE)*****\n",
    "          total += labels.size(0)\n",
    "          correct += (predicted == labels).sum().item()\n",
    "          loss = criterion(outputs, labels)\n",
    "\n",
    "          # Backward and optimize\n",
    "          optimizer.zero_grad()\n",
    "          loss.backward()\n",
    "          optimizer.step()\n",
    "\n",
    "          if (i+1) % 100 == 0:\n",
    "              print ('Epoch [{}/{}], Step [{}/{}], Loss: {:.4f}'\n",
    "                    .format(epoch+1, num_epochs, i+1, total_step, loss.item()))\n",
    "      train_accuracy_per_dropout.append(100 * correct / total)\n",
    "\n",
    "\n",
    "      # Code to update the lr\n",
    "      lr *= learning_rate_decay\n",
    "      update_lr(optimizer, lr)\n",
    "      with torch.no_grad():\n",
    "          correct = 0\n",
    "          total = 0\n",
    "          for images, labels in val_loader:\n",
    "              images = images.to(device)\n",
    "              labels = labels.to(device)\n",
    "              # *****START OF YOUR CODE (DO NOT DELETE/MODIFY THIS LINE)*****\n",
    "\n",
    "              outputs = model(images)\n",
    "              _, predicted = torch.max(outputs.data, 1)\n",
    "              # *****END OF YOUR CODE (DO NOT DELETE/MODIFY THIS LINE)*****\n",
    "              total += labels.size(0)\n",
    "              correct += (predicted == labels).sum().item()\n",
    "\n",
    "          # *****START OF YOUR CODE (DO NOT DELETE/MODIFY THIS LINE)*****\n",
    "          epoch_acc = correct/total\n",
    "          print('Acc: {:.4f}'.format(epoch_acc))\n",
    "          val_accuray_per_dropout.append(epoch_acc)\n",
    "          if epoch_acc > best_acc:\n",
    "              best_acc = epoch_acc\n",
    "              best_model_wts = copy.deepcopy(model.state_dict())\n",
    "              best_model= copy.deepcopy(model)\n",
    "          # *****END OF YOUR CODE (DO NOT DELETE/MODIFY THIS LINE)*****\n",
    "\n",
    "\n",
    "          print('Validataion accuracy is: {} %'.format(100 * correct / total))\n",
    "\n",
    "\n",
    "  # Test the model\n",
    "  # In test phase, we don't need to compute gradients (for memory efficiency)\n",
    "  with torch.no_grad():\n",
    "      correct = 0\n",
    "      total = 0\n",
    "      for images, labels in test_loader:\n",
    "          images = images.to(device)\n",
    "          labels = labels.to(device)\n",
    "          outputs = model(images)\n",
    "          _, predicted = torch.max(outputs.data, 1)\n",
    "          total += labels.size(0)\n",
    "          correct += (predicted == labels).sum().item()\n",
    "          if total == 1000:\n",
    "              break\n",
    "\n",
    "      print('Accuracy of the network on the {} test images: {} %'.format(total, 100 * correct / total))\n",
    "\n",
    "  # Save the model checkpoint\n",
    "  torch.save(model.state_dict(), str(modelname)+'model.ckpt')\n",
    "  return(train_accuracy_per_dropout,val_accuray_per_dropout)\n"
   ]
  },
  {
   "cell_type": "markdown",
   "metadata": {
    "id": "FHXwkGf2TLKZ"
   },
   "source": [
    "**Pretrained VGG11 model with feature extracting only**"
   ]
  },
  {
   "cell_type": "code",
   "execution_count": 42,
   "metadata": {
    "colab": {
     "base_uri": "https://localhost:8080/"
    },
    "executionInfo": {
     "elapsed": 312625,
     "status": "ok",
     "timestamp": 1622232276350,
     "user": {
      "displayName": "Noor Ul Ain",
      "photoUrl": "https://lh3.googleusercontent.com/a-/AOh14GjpB2UM6JgAbrpYdWsj65DElixdeI5Nkc8RX0rw9A=s64",
      "userId": "10283267087434572998"
     },
     "user_tz": 420
    },
    "id": "xeGf8bltdDHQ",
    "outputId": "b6d3bea7-7bc3-4d8e-9a01-e4ccf92e1a4d"
   },
   "outputs": [
    {
     "name": "stdout",
     "output_type": "stream",
     "text": [
      "total learnable params in orignal model: 38\n",
      "\n",
      "\n",
      "Updated Model\n",
      "\n",
      "VGG(\n",
      "  (features): Sequential(\n",
      "    (0): Conv2d(3, 64, kernel_size=(3, 3), stride=(1, 1), padding=(1, 1))\n",
      "    (1): BatchNorm2d(64, eps=1e-05, momentum=0.1, affine=True, track_running_stats=True)\n",
      "    (2): ReLU(inplace=True)\n",
      "    (3): MaxPool2d(kernel_size=2, stride=2, padding=0, dilation=1, ceil_mode=False)\n",
      "    (4): Conv2d(64, 128, kernel_size=(3, 3), stride=(1, 1), padding=(1, 1))\n",
      "    (5): BatchNorm2d(128, eps=1e-05, momentum=0.1, affine=True, track_running_stats=True)\n",
      "    (6): ReLU(inplace=True)\n",
      "    (7): MaxPool2d(kernel_size=2, stride=2, padding=0, dilation=1, ceil_mode=False)\n",
      "    (8): Conv2d(128, 256, kernel_size=(3, 3), stride=(1, 1), padding=(1, 1))\n",
      "    (9): BatchNorm2d(256, eps=1e-05, momentum=0.1, affine=True, track_running_stats=True)\n",
      "    (10): ReLU(inplace=True)\n",
      "    (11): Conv2d(256, 256, kernel_size=(3, 3), stride=(1, 1), padding=(1, 1))\n",
      "    (12): BatchNorm2d(256, eps=1e-05, momentum=0.1, affine=True, track_running_stats=True)\n",
      "    (13): ReLU(inplace=True)\n",
      "    (14): MaxPool2d(kernel_size=2, stride=2, padding=0, dilation=1, ceil_mode=False)\n",
      "    (15): Conv2d(256, 512, kernel_size=(3, 3), stride=(1, 1), padding=(1, 1))\n",
      "    (16): BatchNorm2d(512, eps=1e-05, momentum=0.1, affine=True, track_running_stats=True)\n",
      "    (17): ReLU(inplace=True)\n",
      "    (18): Conv2d(512, 512, kernel_size=(3, 3), stride=(1, 1), padding=(1, 1))\n",
      "    (19): BatchNorm2d(512, eps=1e-05, momentum=0.1, affine=True, track_running_stats=True)\n",
      "    (20): ReLU(inplace=True)\n",
      "    (21): MaxPool2d(kernel_size=2, stride=2, padding=0, dilation=1, ceil_mode=False)\n",
      "    (22): Conv2d(512, 512, kernel_size=(3, 3), stride=(1, 1), padding=(1, 1))\n",
      "    (23): BatchNorm2d(512, eps=1e-05, momentum=0.1, affine=True, track_running_stats=True)\n",
      "    (24): ReLU(inplace=True)\n",
      "    (25): Conv2d(512, 512, kernel_size=(3, 3), stride=(1, 1), padding=(1, 1))\n",
      "    (26): BatchNorm2d(512, eps=1e-05, momentum=0.1, affine=True, track_running_stats=True)\n",
      "    (27): ReLU(inplace=True)\n",
      "    (28): MaxPool2d(kernel_size=2, stride=2, padding=0, dilation=1, ceil_mode=False)\n",
      "  )\n",
      "  (classifier): Sequential(\n",
      "    (0): Linear(in_features=512, out_features=512, bias=True)\n",
      "    (1): ReLU(inplace=True)\n",
      "    (2): Linear(in_features=512, out_features=10, bias=True)\n",
      "  )\n",
      ")\n",
      "\n",
      "Params that are to be learnt when fine_tine is set to False\n",
      "\n",
      "\t classifier.0.weight\n",
      "\t classifier.0.bias\n",
      "\t classifier.2.weight\n",
      "\t classifier.2.bias\n",
      "\n",
      "Total params : 36\n",
      "Total learnable params when fine_tine is set to False : 4\n",
      " \n",
      "\n",
      "Params to learn:\n",
      "\t model.classifier.0.weight\n",
      "\t model.classifier.0.bias\n",
      "\t model.classifier.2.weight\n",
      "\t model.classifier.2.bias\n",
      "Epoch [1/1], Step [100/245], Loss: 1.2342\n",
      "Epoch [1/1], Step [200/245], Loss: 1.1298\n",
      "Acc: 0.6220\n",
      "Validataion accuracy is: 62.2 %\n",
      "Accuracy of the network on the 1000 test images: 59.5 %\n"
     ]
    }
   ],
   "source": [
    "# Initialize the model for this run\n",
    "vggmodel= VggModel(num_classes, fine_tune, pretrained)\n",
    "train_accuray_model1,val_accuray_model1=Train_evaluate(vggmodel,False,True,'pretarined_featureextract')"
   ]
  },
  {
   "cell_type": "markdown",
   "metadata": {
    "id": "BHZ7oxgJhmYD"
   },
   "source": [
    "**Pretrained VGG11 model with fine tuning**"
   ]
  },
  {
   "cell_type": "code",
   "execution_count": 43,
   "metadata": {
    "colab": {
     "base_uri": "https://localhost:8080/"
    },
    "executionInfo": {
     "elapsed": 307861,
     "status": "ok",
     "timestamp": 1622232584175,
     "user": {
      "displayName": "Noor Ul Ain",
      "photoUrl": "https://lh3.googleusercontent.com/a-/AOh14GjpB2UM6JgAbrpYdWsj65DElixdeI5Nkc8RX0rw9A=s64",
      "userId": "10283267087434572998"
     },
     "user_tz": 420
    },
    "id": "a706AfkZYcUz",
    "outputId": "591b221c-bb26-401d-d017-a11a46ee2c0f"
   },
   "outputs": [
    {
     "name": "stdout",
     "output_type": "stream",
     "text": [
      "total learnable params in orignal model: 38\n",
      "\n",
      "\n",
      "Updated Model\n",
      "\n",
      "VGG(\n",
      "  (features): Sequential(\n",
      "    (0): Conv2d(3, 64, kernel_size=(3, 3), stride=(1, 1), padding=(1, 1))\n",
      "    (1): BatchNorm2d(64, eps=1e-05, momentum=0.1, affine=True, track_running_stats=True)\n",
      "    (2): ReLU(inplace=True)\n",
      "    (3): MaxPool2d(kernel_size=2, stride=2, padding=0, dilation=1, ceil_mode=False)\n",
      "    (4): Conv2d(64, 128, kernel_size=(3, 3), stride=(1, 1), padding=(1, 1))\n",
      "    (5): BatchNorm2d(128, eps=1e-05, momentum=0.1, affine=True, track_running_stats=True)\n",
      "    (6): ReLU(inplace=True)\n",
      "    (7): MaxPool2d(kernel_size=2, stride=2, padding=0, dilation=1, ceil_mode=False)\n",
      "    (8): Conv2d(128, 256, kernel_size=(3, 3), stride=(1, 1), padding=(1, 1))\n",
      "    (9): BatchNorm2d(256, eps=1e-05, momentum=0.1, affine=True, track_running_stats=True)\n",
      "    (10): ReLU(inplace=True)\n",
      "    (11): Conv2d(256, 256, kernel_size=(3, 3), stride=(1, 1), padding=(1, 1))\n",
      "    (12): BatchNorm2d(256, eps=1e-05, momentum=0.1, affine=True, track_running_stats=True)\n",
      "    (13): ReLU(inplace=True)\n",
      "    (14): MaxPool2d(kernel_size=2, stride=2, padding=0, dilation=1, ceil_mode=False)\n",
      "    (15): Conv2d(256, 512, kernel_size=(3, 3), stride=(1, 1), padding=(1, 1))\n",
      "    (16): BatchNorm2d(512, eps=1e-05, momentum=0.1, affine=True, track_running_stats=True)\n",
      "    (17): ReLU(inplace=True)\n",
      "    (18): Conv2d(512, 512, kernel_size=(3, 3), stride=(1, 1), padding=(1, 1))\n",
      "    (19): BatchNorm2d(512, eps=1e-05, momentum=0.1, affine=True, track_running_stats=True)\n",
      "    (20): ReLU(inplace=True)\n",
      "    (21): MaxPool2d(kernel_size=2, stride=2, padding=0, dilation=1, ceil_mode=False)\n",
      "    (22): Conv2d(512, 512, kernel_size=(3, 3), stride=(1, 1), padding=(1, 1))\n",
      "    (23): BatchNorm2d(512, eps=1e-05, momentum=0.1, affine=True, track_running_stats=True)\n",
      "    (24): ReLU(inplace=True)\n",
      "    (25): Conv2d(512, 512, kernel_size=(3, 3), stride=(1, 1), padding=(1, 1))\n",
      "    (26): BatchNorm2d(512, eps=1e-05, momentum=0.1, affine=True, track_running_stats=True)\n",
      "    (27): ReLU(inplace=True)\n",
      "    (28): MaxPool2d(kernel_size=2, stride=2, padding=0, dilation=1, ceil_mode=False)\n",
      "  )\n",
      "  (classifier): Sequential(\n",
      "    (0): Linear(in_features=512, out_features=512, bias=True)\n",
      "    (1): ReLU(inplace=True)\n",
      "    (2): Linear(in_features=512, out_features=10, bias=True)\n",
      "  )\n",
      ")\n",
      "\n",
      "Params that are to be learnt when fine_tine is set to False\n",
      "\n",
      "\t classifier.0.weight\n",
      "\t classifier.0.bias\n",
      "\t classifier.2.weight\n",
      "\t classifier.2.bias\n",
      "\n",
      "Total params : 36\n",
      "Total learnable params when fine_tine is set to False : 4\n",
      " \n",
      "\n",
      "Params to learn:\n",
      "\t model.classifier.0.weight\n",
      "\t model.classifier.0.bias\n",
      "\t model.classifier.2.weight\n",
      "\t model.classifier.2.bias\n",
      "Epoch [1/1], Step [100/245], Loss: 1.3866\n",
      "Epoch [1/1], Step [200/245], Loss: 1.1467\n",
      "Acc: 0.6000\n",
      "Validataion accuracy is: 60.0 %\n",
      "Accuracy of the network on the 1000 test images: 60.7 %\n"
     ]
    }
   ],
   "source": [
    "# Initialize the model for this run\n",
    "vggmodel= VggModel(num_classes, fine_tune, pretrained)\n",
    "train_accuray_model2,val_accuray_model2=Train_evaluate(vggmodel,True,True,'pretrained_finetune')"
   ]
  },
  {
   "cell_type": "markdown",
   "metadata": {
    "id": "VZ_RmWRzhp8D"
   },
   "source": [
    "**VGG11 model with training from scratch**"
   ]
  },
  {
   "cell_type": "code",
   "execution_count": 44,
   "metadata": {
    "colab": {
     "base_uri": "https://localhost:8080/"
    },
    "executionInfo": {
     "elapsed": 309312,
     "status": "ok",
     "timestamp": 1622232893455,
     "user": {
      "displayName": "Noor Ul Ain",
      "photoUrl": "https://lh3.googleusercontent.com/a-/AOh14GjpB2UM6JgAbrpYdWsj65DElixdeI5Nkc8RX0rw9A=s64",
      "userId": "10283267087434572998"
     },
     "user_tz": 420
    },
    "id": "e-5FXl28ZhPJ",
    "outputId": "c6d4cd9b-9490-44a0-ac95-b5876cc017a8"
   },
   "outputs": [
    {
     "name": "stdout",
     "output_type": "stream",
     "text": [
      "total learnable params in orignal model: 38\n",
      "\n",
      "\n",
      "Updated Model\n",
      "\n",
      "VGG(\n",
      "  (features): Sequential(\n",
      "    (0): Conv2d(3, 64, kernel_size=(3, 3), stride=(1, 1), padding=(1, 1))\n",
      "    (1): BatchNorm2d(64, eps=1e-05, momentum=0.1, affine=True, track_running_stats=True)\n",
      "    (2): ReLU(inplace=True)\n",
      "    (3): MaxPool2d(kernel_size=2, stride=2, padding=0, dilation=1, ceil_mode=False)\n",
      "    (4): Conv2d(64, 128, kernel_size=(3, 3), stride=(1, 1), padding=(1, 1))\n",
      "    (5): BatchNorm2d(128, eps=1e-05, momentum=0.1, affine=True, track_running_stats=True)\n",
      "    (6): ReLU(inplace=True)\n",
      "    (7): MaxPool2d(kernel_size=2, stride=2, padding=0, dilation=1, ceil_mode=False)\n",
      "    (8): Conv2d(128, 256, kernel_size=(3, 3), stride=(1, 1), padding=(1, 1))\n",
      "    (9): BatchNorm2d(256, eps=1e-05, momentum=0.1, affine=True, track_running_stats=True)\n",
      "    (10): ReLU(inplace=True)\n",
      "    (11): Conv2d(256, 256, kernel_size=(3, 3), stride=(1, 1), padding=(1, 1))\n",
      "    (12): BatchNorm2d(256, eps=1e-05, momentum=0.1, affine=True, track_running_stats=True)\n",
      "    (13): ReLU(inplace=True)\n",
      "    (14): MaxPool2d(kernel_size=2, stride=2, padding=0, dilation=1, ceil_mode=False)\n",
      "    (15): Conv2d(256, 512, kernel_size=(3, 3), stride=(1, 1), padding=(1, 1))\n",
      "    (16): BatchNorm2d(512, eps=1e-05, momentum=0.1, affine=True, track_running_stats=True)\n",
      "    (17): ReLU(inplace=True)\n",
      "    (18): Conv2d(512, 512, kernel_size=(3, 3), stride=(1, 1), padding=(1, 1))\n",
      "    (19): BatchNorm2d(512, eps=1e-05, momentum=0.1, affine=True, track_running_stats=True)\n",
      "    (20): ReLU(inplace=True)\n",
      "    (21): MaxPool2d(kernel_size=2, stride=2, padding=0, dilation=1, ceil_mode=False)\n",
      "    (22): Conv2d(512, 512, kernel_size=(3, 3), stride=(1, 1), padding=(1, 1))\n",
      "    (23): BatchNorm2d(512, eps=1e-05, momentum=0.1, affine=True, track_running_stats=True)\n",
      "    (24): ReLU(inplace=True)\n",
      "    (25): Conv2d(512, 512, kernel_size=(3, 3), stride=(1, 1), padding=(1, 1))\n",
      "    (26): BatchNorm2d(512, eps=1e-05, momentum=0.1, affine=True, track_running_stats=True)\n",
      "    (27): ReLU(inplace=True)\n",
      "    (28): MaxPool2d(kernel_size=2, stride=2, padding=0, dilation=1, ceil_mode=False)\n",
      "  )\n",
      "  (classifier): Sequential(\n",
      "    (0): Linear(in_features=512, out_features=512, bias=True)\n",
      "    (1): ReLU(inplace=True)\n",
      "    (2): Linear(in_features=512, out_features=10, bias=True)\n",
      "  )\n",
      ")\n",
      "\n",
      "Params that are to be learnt when fine_tine is set to False\n",
      "\n",
      "\t classifier.0.weight\n",
      "\t classifier.0.bias\n",
      "\t classifier.2.weight\n",
      "\t classifier.2.bias\n",
      "\n",
      "Total params : 36\n",
      "Total learnable params when fine_tine is set to False : 4\n",
      " \n",
      "\n",
      "Params to learn:\n",
      "\t model.classifier.0.weight\n",
      "\t model.classifier.0.bias\n",
      "\t model.classifier.2.weight\n",
      "\t model.classifier.2.bias\n",
      "Epoch [1/1], Step [100/245], Loss: 1.3325\n",
      "Epoch [1/1], Step [200/245], Loss: 1.3342\n",
      "Acc: 0.6050\n",
      "Validataion accuracy is: 60.5 %\n",
      "Accuracy of the network on the 1000 test images: 60.3 %\n"
     ]
    }
   ],
   "source": [
    "vggmodel= VggModel(num_classes, fine_tune, pretrained)\n",
    "train_accuray_model3,val_accuray_model3=Train_evaluate(vggmodel,True,False,'finetune')"
   ]
  },
  {
   "cell_type": "code",
   "execution_count": 56,
   "metadata": {
    "colab": {
     "base_uri": "https://localhost:8080/",
     "height": 312
    },
    "executionInfo": {
     "elapsed": 606,
     "status": "ok",
     "timestamp": 1622233597762,
     "user": {
      "displayName": "Noor Ul Ain",
      "photoUrl": "https://lh3.googleusercontent.com/a-/AOh14GjpB2UM6JgAbrpYdWsj65DElixdeI5Nkc8RX0rw9A=s64",
      "userId": "10283267087434572998"
     },
     "user_tz": 420
    },
    "id": "OkKZG2crapM0",
    "outputId": "fd806924-4d90-4488-f76f-694f785acb18"
   },
   "outputs": [
    {
     "name": "stdout",
     "output_type": "stream",
     "text": [
      "[1.         2.33333333 3.66666667 5.        ]\n"
     ]
    },
    {
     "data": {
      "image/png": "[encoded data removed]",
      "text/plain": [
       "<Figure size 432x288 with 1 Axes>"
      ]
     },
     "metadata": {
      "needs_background": "light",
      "tags": []
     },
     "output_type": "display_data"
    }
   ],
   "source": [
    "import matplotlib.pyplot as plt\n",
    "import numpy as np\n",
    "x = np.linspace(1,21,20)\n",
    "plt.plot(x, train_accuray_model1, label = \"Pretrained and NOt finetuned\")\n",
    "plt.plot(x, train_accuray_model2, label = \"Pretrained and Finetuned\")\n",
    "plt.plot(x, train_accuray_model3, label = \"Not Pretrained\")\n",
    "plt.xlabel('No of epochs')\n",
    "plt.ylabel('Accuracy')\n",
    "plt.title('Training Accuracy comparision')\n",
    "plt.legend()\n",
    "plt.show()"
   ]
  },
  {
   "cell_type": "code",
   "execution_count": null,
   "metadata": {
    "id": "npcd-CsugK-e"
   },
   "outputs": [],
   "source": []
  }
 ],
 "metadata": {
  "colab": {
   "authorship_tag": "ABX9TyN58fYrK3uxyu6aZZmeV7pT",
   "collapsed_sections": [],
   "name": "Copy of Untitled1.ipynb",
   "provenance": [
    {
     "file_id": "10TAM_wOKyC16SDvAHogcqrLNX4Eyh13m",
     "timestamp": 1622228317955
    }
   ]
  },
  "kernelspec": {
   "display_name": "Python 3",
   "language": "python",
   "name": "python3"
  },
  "language_info": {
   "codemirror_mode": {
    "name": "ipython",
    "version": 3
   },
   "file_extension": ".py",
   "mimetype": "text/x-python",
   "name": "python",
   "nbconvert_exporter": "python",
   "pygments_lexer": "ipython3",
   "version": "3.8.8"
  }
 },
 "nbformat": 4,
 "nbformat_minor": 1
}
